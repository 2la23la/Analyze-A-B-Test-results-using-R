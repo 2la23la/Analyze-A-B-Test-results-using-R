{
  "nbformat": 4,
  "nbformat_minor": 0,
  "metadata": {
    "colab": {
      "provenance": [],
      "collapsed_sections": [],
      "include_colab_link": true
    },
    "kernelspec": {
      "name": "ir",
      "display_name": "R"
    },
    "language_info": {
      "name": "R"
    }
  },
  "cells": [
    {
      "cell_type": "markdown",
      "metadata": {
        "id": "view-in-github",
        "colab_type": "text"
      },
      "source": [
        "<a href=\"https://colab.research.google.com/github/2la23la/Analyze-A-B-Test-results-using-R/blob/main/Copy_of_NGS_AB_testing.ipynb\" target=\"_parent\"><img src=\"https://colab.research.google.com/assets/colab-badge.svg\" alt=\"Open In Colab\"/></a>"
      ]
    },
    {
      "cell_type": "markdown",
      "source": [
        "# Welcome to NGS Summer Training Project!"
      ],
      "metadata": {
        "id": "Qp1HoU8vpwjg"
      }
    },
    {
      "cell_type": "markdown",
      "source": [
        "It will be covering the **\"Statistics + R\"** training content using **Cookie Cats** dataset."
      ],
      "metadata": {
        "id": "68hydvf-rDne"
      }
    },
    {
      "cell_type": "markdown",
      "source": [
        "\n",
        "Description: Cookie Cats is a hugely popular mobile puzzle game developed by Tactile Entertainment. It's a classic \"connect three\"-style puzzle game where the player must connect tiles of the same color to clear the board and win the level. It also features singing cats.\n",
        "\n",
        "As players progress through the levels of the game, they will occasionally encounter gates that force them to wait a non-trivial amount of time or make an in-app purchase to progress. In addition to driving in-app purchases, these gates serve the important purpose of giving players an enforced break from playing the game, hopefully resulting in that the player's enjoyment of the game being increased and prolonged.\n",
        "\n",
        "But where should the gates be placed? Initially, the first gate was placed at level 30. In this project, we're going to analyze an AB-test where we moved the first gate in Cookie Cats from level 30 to level 40. In particular, we will look at the impact on player retention."
      ],
      "metadata": {
        "id": "r_oURCacrFz_"
      }
    },
    {
      "cell_type": "code",
      "source": [
        "# To read the dataset into a data frame, run this cell\n",
        "# https://drive.google.com/file/d/1kSAaGB0jU2X_6Q4hoRf7klDTOSQMCd_a/view\n",
        "\n",
        "system(\"gdown --id 1kSAaGB0jU2X_6Q4hoRf7klDTOSQMCd_a\")\n",
        "cookie_cats = read.csv(\"cookie_cats.csv\")"
      ],
      "metadata": {
        "id": "BrIne3jFrHI3"
      },
      "execution_count": null,
      "outputs": []
    },
    {
      "cell_type": "code",
      "source": [
        "# To learn more about the structure and variables of the dataset, use str() and head()\n",
        "str(cookie_cats)\n",
        "head(cookie_cats)"
      ],
      "metadata": {
        "id": "K10Kgdf5vkjZ",
        "colab": {
          "base_uri": "https://localhost:8080/",
          "height": 390
        },
        "outputId": "70573c44-fcbc-4668-c84a-4d13ff462671"
      },
      "execution_count": null,
      "outputs": [
        {
          "output_type": "stream",
          "name": "stdout",
          "text": [
            "'data.frame':\t90189 obs. of  5 variables:\n",
            " $ userid        : int  116 337 377 483 488 540 1066 1444 1574 1587 ...\n",
            " $ version       : chr  \"gate_30\" \"gate_30\" \"gate_40\" \"gate_40\" ...\n",
            " $ sum_gamerounds: int  3 38 165 1 179 187 0 2 108 153 ...\n",
            " $ retention_1   : chr  \"False\" \"True\" \"True\" \"False\" ...\n",
            " $ retention_7   : chr  \"False\" \"False\" \"False\" \"False\" ...\n"
          ]
        },
        {
          "output_type": "display_data",
          "data": {
            "text/html": [
              "<table class=\"dataframe\">\n",
              "<caption>A data.frame: 6 × 5</caption>\n",
              "<thead>\n",
              "\t<tr><th></th><th scope=col>userid</th><th scope=col>version</th><th scope=col>sum_gamerounds</th><th scope=col>retention_1</th><th scope=col>retention_7</th></tr>\n",
              "\t<tr><th></th><th scope=col>&lt;int&gt;</th><th scope=col>&lt;chr&gt;</th><th scope=col>&lt;int&gt;</th><th scope=col>&lt;chr&gt;</th><th scope=col>&lt;chr&gt;</th></tr>\n",
              "</thead>\n",
              "<tbody>\n",
              "\t<tr><th scope=row>1</th><td>116</td><td>gate_30</td><td>  3</td><td>False</td><td>False</td></tr>\n",
              "\t<tr><th scope=row>2</th><td>337</td><td>gate_30</td><td> 38</td><td>True </td><td>False</td></tr>\n",
              "\t<tr><th scope=row>3</th><td>377</td><td>gate_40</td><td>165</td><td>True </td><td>False</td></tr>\n",
              "\t<tr><th scope=row>4</th><td>483</td><td>gate_40</td><td>  1</td><td>False</td><td>False</td></tr>\n",
              "\t<tr><th scope=row>5</th><td>488</td><td>gate_40</td><td>179</td><td>True </td><td>True </td></tr>\n",
              "\t<tr><th scope=row>6</th><td>540</td><td>gate_40</td><td>187</td><td>True </td><td>True </td></tr>\n",
              "</tbody>\n",
              "</table>\n"
            ],
            "text/markdown": "\nA data.frame: 6 × 5\n\n| <!--/--> | userid &lt;int&gt; | version &lt;chr&gt; | sum_gamerounds &lt;int&gt; | retention_1 &lt;chr&gt; | retention_7 &lt;chr&gt; |\n|---|---|---|---|---|---|\n| 1 | 116 | gate_30 |   3 | False | False |\n| 2 | 337 | gate_30 |  38 | True  | False |\n| 3 | 377 | gate_40 | 165 | True  | False |\n| 4 | 483 | gate_40 |   1 | False | False |\n| 5 | 488 | gate_40 | 179 | True  | True  |\n| 6 | 540 | gate_40 | 187 | True  | True  |\n\n",
            "text/latex": "A data.frame: 6 × 5\n\\begin{tabular}{r|lllll}\n  & userid & version & sum\\_gamerounds & retention\\_1 & retention\\_7\\\\\n  & <int> & <chr> & <int> & <chr> & <chr>\\\\\n\\hline\n\t1 & 116 & gate\\_30 &   3 & False & False\\\\\n\t2 & 337 & gate\\_30 &  38 & True  & False\\\\\n\t3 & 377 & gate\\_40 & 165 & True  & False\\\\\n\t4 & 483 & gate\\_40 &   1 & False & False\\\\\n\t5 & 488 & gate\\_40 & 179 & True  & True \\\\\n\t6 & 540 & gate\\_40 & 187 & True  & True \\\\\n\\end{tabular}\n",
            "text/plain": [
              "  userid version sum_gamerounds retention_1 retention_7\n",
              "1 116    gate_30   3            False       False      \n",
              "2 337    gate_30  38            True        False      \n",
              "3 377    gate_40 165            True        False      \n",
              "4 483    gate_40   1            False       False      \n",
              "5 488    gate_40 179            True        True       \n",
              "6 540    gate_40 187            True        True       "
            ]
          },
          "metadata": {}
        }
      ]
    },
    {
      "cell_type": "code",
      "source": [
        "install.packages(\"naniar\")\n",
        "install.packages(\"dplyr\")\n",
        "install.packages(\"ggplot2\")\n",
        "install.packages(\"forcats\")\n",
        "install.packages(\"infer\")\n",
        "install.packages(\"visualize\")"
      ],
      "metadata": {
        "colab": {
          "base_uri": "https://localhost:8080/"
        },
        "id": "A3uGfCZY_9Pt",
        "outputId": "4d206802-b1a9-4e6a-fc88-065a4c1bb7d2"
      },
      "execution_count": null,
      "outputs": [
        {
          "output_type": "stream",
          "name": "stderr",
          "text": [
            "Installing package into ‘/usr/local/lib/R/site-library’\n",
            "(as ‘lib’ is unspecified)\n",
            "\n",
            "also installing the dependencies ‘Rcpp’, ‘gridExtra’, ‘plyr’, ‘norm’, ‘visdat’, ‘viridis’, ‘UpSetR’\n",
            "\n",
            "\n",
            "Installing package into ‘/usr/local/lib/R/site-library’\n",
            "(as ‘lib’ is unspecified)\n",
            "\n",
            "Installing package into ‘/usr/local/lib/R/site-library’\n",
            "(as ‘lib’ is unspecified)\n",
            "\n",
            "Installing package into ‘/usr/local/lib/R/site-library’\n",
            "(as ‘lib’ is unspecified)\n",
            "\n",
            "Installing package into ‘/usr/local/lib/R/site-library’\n",
            "(as ‘lib’ is unspecified)\n",
            "\n",
            "also installing the dependency ‘patchwork’\n",
            "\n",
            "\n",
            "Installing package into ‘/usr/local/lib/R/site-library’\n",
            "(as ‘lib’ is unspecified)\n",
            "\n"
          ]
        }
      ]
    },
    {
      "cell_type": "markdown",
      "source": [
        "# 1. **EDA** \n",
        "\n",
        "Let's perform an EDA on our data in order to learn more about its variables."
      ],
      "metadata": {
        "id": "Y2qDsRPjfABA"
      }
    },
    {
      "cell_type": "code",
      "source": [
        "# First, let's check if the data contains any missing values\n",
        "install.packages(\"naniar\")\n",
        "library(naniar)\n",
        "n_miss(cookie_cats)\n",
        "\n",
        "# Let's check if there are any duplicates using duplicated()\n",
        "sum(duplicated(cookie_cats))"
      ],
      "metadata": {
        "colab": {
          "base_uri": "https://localhost:8080/",
          "height": 104
        },
        "id": "ZM740IfXfHeR",
        "outputId": "fde1a939-b6f1-431e-bc6f-cc0528323cef"
      },
      "execution_count": null,
      "outputs": [
        {
          "output_type": "stream",
          "name": "stderr",
          "text": [
            "Installing package into ‘/usr/local/lib/R/site-library’\n",
            "(as ‘lib’ is unspecified)\n",
            "\n"
          ]
        },
        {
          "output_type": "display_data",
          "data": {
            "text/html": [
              "0"
            ],
            "text/markdown": "0",
            "text/latex": "0",
            "text/plain": [
              "[1] 0"
            ]
          },
          "metadata": {}
        },
        {
          "output_type": "display_data",
          "data": {
            "text/html": [
              "0"
            ],
            "text/markdown": "0",
            "text/latex": "0",
            "text/plain": [
              "[1] 0"
            ]
          },
          "metadata": {}
        }
      ]
    },
    {
      "cell_type": "code",
      "source": [
        "# Next, let's find the number of players who came back to play after 1 day or 7 days of installing using sum()\n",
        "# Note: retention_1 and retention_7 are character variables not bool, find the appropriate function to convert them\n",
        "sum(as.logical(cookie_cats$retention_1), na.rm = TRUE)\n",
        "sum(as.logical(cookie_cats$retention_7), na.rm = TRUE)"
      ],
      "metadata": {
        "colab": {
          "base_uri": "https://localhost:8080/",
          "height": 52
        },
        "id": "FcwSI3xJfS9x",
        "outputId": "cff5faa5-040c-49d2-e5a4-03541a865be6"
      },
      "execution_count": null,
      "outputs": [
        {
          "output_type": "display_data",
          "data": {
            "text/html": [
              "40153"
            ],
            "text/markdown": "40153",
            "text/latex": "40153",
            "text/plain": [
              "[1] 40153"
            ]
          },
          "metadata": {}
        },
        {
          "output_type": "display_data",
          "data": {
            "text/html": [
              "16781"
            ],
            "text/markdown": "16781",
            "text/latex": "16781",
            "text/plain": [
              "[1] 16781"
            ]
          },
          "metadata": {}
        }
      ]
    },
    {
      "cell_type": "code",
      "source": [
        "#Let's now display retention_1 and retention_7 separately using a barplot\n",
        "library(ggplot2)\n",
        "cookie_cats %>% ggplot(aes(x = retention_1,fill=version)) + geom_bar()\n",
        "\n",
        "cookie_cats %>% ggplot(aes(x = retention_7,fill=version)) + geom_bar()"
      ],
      "metadata": {
        "colab": {
          "base_uri": "https://localhost:8080/",
          "height": 857
        },
        "id": "S0-OnMyffjxf",
        "outputId": "84507c23-c97a-4282-a7db-32212effbae9"
      },
      "execution_count": null,
      "outputs": [
        {
          "output_type": "display_data",
          "data": {
            "text/plain": [
              "plot without title"
            ],
            "image/png": "[encoded data removed]"
          },
          "metadata": {
            "image/png": {
              "width": 420,
              "height": 420
            }
          }
        },
        {
          "output_type": "display_data",
          "data": {
            "text/plain": [
              "plot without title"
            ],
            "image/png": "[encoded data removed]"
          },
          "metadata": {
            "image/png": {
              "width": 420,
              "height": 420
            }
          }
        }
      ]
    },
    {
      "cell_type": "code",
      "source": [
        "# Finally, let's use summary() to find summaries regarding each variable\n",
        "summary(cookie_cats)"
      ],
      "metadata": {
        "colab": {
          "base_uri": "https://localhost:8080/",
          "height": 260
        },
        "id": "9jmIyuRvfimN",
        "outputId": "b84b4983-355b-42d7-9f2d-d9d42d613d1f"
      },
      "execution_count": null,
      "outputs": [
        {
          "output_type": "display_data",
          "data": {
            "text/plain": [
              "     userid          version          sum_gamerounds     retention_1       \n",
              " Min.   :    116   Length:90189       Min.   :    0.00   Length:90189      \n",
              " 1st Qu.:2512230   Class :character   1st Qu.:    5.00   Class :character  \n",
              " Median :4995815   Mode  :character   Median :   16.00   Mode  :character  \n",
              " Mean   :4998412                      Mean   :   51.87                     \n",
              " 3rd Qu.:7496452                      3rd Qu.:   51.00                     \n",
              " Max.   :9999861                      Max.   :49854.00                     \n",
              " retention_7       \n",
              " Length:90189      \n",
              " Class :character  \n",
              " Mode  :character  \n",
              "                   \n",
              "                   \n",
              "                   "
            ]
          },
          "metadata": {}
        }
      ]
    },
    {
      "cell_type": "markdown",
      "source": [
        "# 1.**The AB-test data**\n",
        "\n",
        "The data we have is from 90,189 players that installed the game while the AB-test was running. The variables are:\n",
        "\n",
        "**userid** - a unique number that identifies each player.\n",
        "\n",
        "**version** - whether the player was put in the control group (gate_30 - a gate at level 30) or the group with the moved gate (gate_40 - a gate at level 40).\n",
        "\n",
        "**sum_gamerounds** - the number of game rounds played by the player during the first 14 days after install.\n",
        "\n",
        "**retention_1** - did the player come back and play **1 day** after installing?\n",
        "\n",
        "**retention_7** - did the player come back and play **7 days** after installing?\n",
        "\n"
      ],
      "metadata": {
        "id": "Qo7QCzlhvtcc"
      }
    },
    {
      "cell_type": "code",
      "source": [
        "library(naniar)\n",
        "library(dplyr)\n",
        "library(ggplot2)\n",
        "library(forcats)\n",
        "library(infer)\n",
        "library(visualize)\n",
        "\n",
        "n_miss(cookie_cats)"
      ],
      "metadata": {
        "colab": {
          "base_uri": "https://localhost:8080/",
          "height": 290
        },
        "id": "SOy-fPeQ_4dm",
        "outputId": "9a784a69-c622-48bd-b3b9-9adab7bfe70a"
      },
      "execution_count": null,
      "outputs": [
        {
          "output_type": "stream",
          "name": "stderr",
          "text": [
            "\n",
            "Attaching package: ‘dplyr’\n",
            "\n",
            "\n",
            "The following objects are masked from ‘package:stats’:\n",
            "\n",
            "    filter, lag\n",
            "\n",
            "\n",
            "The following objects are masked from ‘package:base’:\n",
            "\n",
            "    intersect, setdiff, setequal, union\n",
            "\n",
            "\n"
          ]
        },
        {
          "output_type": "display_data",
          "data": {
            "text/html": [
              "0"
            ],
            "text/markdown": "0",
            "text/latex": "0",
            "text/plain": [
              "[1] 0"
            ]
          },
          "metadata": {}
        }
      ]
    },
    {
      "cell_type": "markdown",
      "source": [
        "# Problem Statement:\n",
        "\n",
        "\\begin{equation} H_{0} : p_{gate30} - p_{gate40} >= 0 \\end{equation}\n",
        "\n",
        "\\begin{equation} H_{1} : p_{gate30} - p_{gate40} < 0 \\end{equation}"
      ],
      "metadata": {
        "id": "34UpqKXl7ulL"
      }
    },
    {
      "cell_type": "markdown",
      "source": [
        "When a player installed the game, he or she was randomly assigned to either **gate_30** or **gate_40**. As a sanity check, let's see if there are roughly the same number of players in each AB group."
      ],
      "metadata": {
        "id": "e7--We9t7-On"
      }
    },
    {
      "cell_type": "code",
      "source": [
        "# Counting the number of players in each A/B group.\n",
        "  sum(cookie_cats$version==\"gate_30\")\n",
        "  sum(cookie_cats$version==\"gate_40\")\n"
      ],
      "metadata": {
        "id": "JQYIiUwhCwYv",
        "colab": {
          "base_uri": "https://localhost:8080/",
          "height": 52
        },
        "outputId": "340e6d18-32e3-4d10-94a6-c73deb0e47bc"
      },
      "execution_count": null,
      "outputs": [
        {
          "output_type": "display_data",
          "data": {
            "text/html": [
              "44700"
            ],
            "text/markdown": "44700",
            "text/latex": "44700",
            "text/plain": [
              "[1] 44700"
            ]
          },
          "metadata": {}
        },
        {
          "output_type": "display_data",
          "data": {
            "text/html": [
              "45489"
            ],
            "text/markdown": "45489",
            "text/latex": "45489",
            "text/plain": [
              "[1] 45489"
            ]
          },
          "metadata": {}
        }
      ]
    },
    {
      "cell_type": "markdown",
      "source": [
        "## 2. The distribution of game rounds\n",
        "<p><img src=\"https://assets.datacamp.com/production/project_184/img/mr_waffles_smiling.png\" style=\"width:50px; float:right\"> </p>\n",
        "<p>It looks like there is roughly the same number of players in each group, nice!</p>\n",
        "<p>The focus of this analysis will be on how the gate placement affects player retention, but just for fun: Let's plot the distribution of the number of game rounds players played during their first week playing the game.</p>"
      ],
      "metadata": {
        "id": "n4XwPNe8DbCq"
      }
    },
    {
      "cell_type": "code",
      "source": [
        "# The distribution of game rounds\n",
        "# Plotting the distribution of players that played 0 to 100 game rounds\n",
        "\n",
        "ggplot(cookie_cats, aes(x = sum_gamerounds)) + geom_histogram() + xlim(0,100)"
      ],
      "metadata": {
        "id": "uwNINT2qEEtK",
        "colab": {
          "base_uri": "https://localhost:8080/",
          "height": 541
        },
        "outputId": "fcd62697-13d9-4968-a30e-9045bf7b84cc"
      },
      "execution_count": null,
      "outputs": [
        {
          "output_type": "stream",
          "name": "stderr",
          "text": [
            "`stat_bin()` using `bins = 30`. Pick better value with `binwidth`.\n",
            "\n",
            "Warning message:\n",
            "“Removed 12385 rows containing non-finite values (stat_bin).”\n",
            "Warning message:\n",
            "“Removed 2 rows containing missing values (geom_bar).”\n"
          ]
        },
        {
          "output_type": "display_data",
          "data": {
            "text/plain": [
              "plot without title"
            ],
            "image/png": "[encoded data removed]"
          },
          "metadata": {
            "image/png": {
              "width": 420,
              "height": 420
            }
          }
        }
      ]
    },
    {
      "cell_type": "markdown",
      "source": [
        "**3. Overall 1-day retention**\n",
        "\n",
        "In the plot above we can see that some players install the game but then never play it (0 game rounds), some players just play a couple of game rounds in their first week, and some get really hooked!\n",
        "\n",
        "\n",
        "\n",
        "What we want is for players to like the game and to get hooked. A common metric in the video gaming industry for how fun and engaging a game is 1-day retention: The percentage of players that comes back and plays the game one day after they have installed it. The higher 1-day retention is, the easier it is to retain players and build a large player base.\n",
        "\n",
        "\n",
        "\n",
        "\n",
        "As a first step, **let's look at what 1-day and 7-days retentions are overall.**"
      ],
      "metadata": {
        "id": "YlwoBRwPZmKI"
      }
    },
    {
      "cell_type": "code",
      "source": [
        "# The % of users that came back the day (retention_1) after they installed\n",
        "\n",
        "mean(cookie_cats$retention_1==\"True\")\n",
        "\n",
        "# The % of users that came back a week (retention_7) after they installed\n",
        "\n",
        "mean(cookie_cats$retention_7==\"True\")"
      ],
      "metadata": {
        "id": "aTcMu5gEFRhj",
        "colab": {
          "base_uri": "https://localhost:8080/",
          "height": 52
        },
        "outputId": "573ea9ac-0c8b-49eb-cfb7-e42cd5b86551"
      },
      "execution_count": null,
      "outputs": [
        {
          "output_type": "display_data",
          "data": {
            "text/html": [
              "0.445209504485026"
            ],
            "text/markdown": "0.445209504485026",
            "text/latex": "0.445209504485026",
            "text/plain": [
              "[1] 0.4452095"
            ]
          },
          "metadata": {}
        },
        {
          "output_type": "display_data",
          "data": {
            "text/html": [
              "0.186064819434743"
            ],
            "text/markdown": "0.186064819434743",
            "text/latex": "0.186064819434743",
            "text/plain": [
              "[1] 0.1860648"
            ]
          },
          "metadata": {}
        }
      ]
    },
    {
      "cell_type": "markdown",
      "source": [
        "So, a little less than half of the players come back one day after installing the game. 18 percent of the players come back 7 day after installing the game.\n",
        "\n",
        "Now that we have a benchmark, let's look at how retention rates differs between the two A/B groups(gate30 /gate40)."
      ],
      "metadata": {
        "id": "LtHxpyOuz2pl"
      }
    },
    {
      "cell_type": "code",
      "source": [
        "#Calculating the percentage of 1-day retention for each A/B group\n",
        "#aggregate(cookie_cats$retention_1==\"True\", list(cookie_cats$version), FUN=mean) \n",
        "#Calculating the percentage of 7-days retention for each A/B group\n",
        "#aggregate(cookie_cats$retention_7==\"True\", list(cookie_cats$version), FUN=mean) \n",
        "cookie_cats%>%\n",
        "group_by(version) %>%\n",
        "summarise(mean(retention_1==\"True\"))"
      ],
      "metadata": {
        "colab": {
          "base_uri": "https://localhost:8080/",
          "height": 161
        },
        "id": "K_hq45hc0VRj",
        "outputId": "a174c031-bbc8-4526-c54d-353338dcc882"
      },
      "execution_count": null,
      "outputs": [
        {
          "output_type": "display_data",
          "data": {
            "text/html": [
              "<table class=\"dataframe\">\n",
              "<caption>A tibble: 2 × 2</caption>\n",
              "<thead>\n",
              "\t<tr><th scope=col>version</th><th scope=col>mean(retention_1 == \"True\")</th></tr>\n",
              "\t<tr><th scope=col>&lt;chr&gt;</th><th scope=col>&lt;dbl&gt;</th></tr>\n",
              "</thead>\n",
              "<tbody>\n",
              "\t<tr><td>gate_30</td><td>0.4481879</td></tr>\n",
              "\t<tr><td>gate_40</td><td>0.4422827</td></tr>\n",
              "</tbody>\n",
              "</table>\n"
            ],
            "text/markdown": "\nA tibble: 2 × 2\n\n| version &lt;chr&gt; | mean(retention_1 == \"True\") &lt;dbl&gt; |\n|---|---|\n| gate_30 | 0.4481879 |\n| gate_40 | 0.4422827 |\n\n",
            "text/latex": "A tibble: 2 × 2\n\\begin{tabular}{ll}\n version & mean(retention\\_1 == \"True\")\\\\\n <chr> & <dbl>\\\\\n\\hline\n\t gate\\_30 & 0.4481879\\\\\n\t gate\\_40 & 0.4422827\\\\\n\\end{tabular}\n",
            "text/plain": [
              "  version mean(retention_1 == \"True\")\n",
              "1 gate_30 0.4481879                  \n",
              "2 gate_40 0.4422827                  "
            ]
          },
          "metadata": {}
        }
      ]
    },
    {
      "cell_type": "markdown",
      "source": [
        "There was a slight decrease in 1-day retention when the gate was moved to level 40 (44.2%) compared to the control group when it was at level 30 (44.8%).\n",
        "\n",
        "Again,a decrease in 7-day retention when the gate was moved to level 40 (18.2%) compared to the control group when it was at level 30 (19.8%).\n",
        "\n",
        "It's a small change, but even small changes in retention can have a large impact. But while we are certain of the difference in the data, how certain should we be that a gate at level 40 will be worse in the future?\n",
        "\n",
        "There are a couple of ways we can get at the certainty of these retention numbers. Here we will use **bootstrapping**.\n",
        "\n"
      ],
      "metadata": {
        "id": "Ckdm3jD1Hz6J"
      }
    },
    {
      "cell_type": "markdown",
      "source": [
        "# 4. A/B Testing: Bootstrapping \n",
        "**Definiton of Method**\n",
        "\n",
        "\n",
        "\n",
        "We'll use **bootstrapping** for A/B testing. The basic idea of bootstrapping is that inference about a population from sample data (sample → population) can be modelled by resampling the sample data and performing inference about a sample from resampled data (resampled → sample). As the population is unknown, the true error in a sample statistic against its population value is unknown. In bootstrap-resamples, the 'population' is in fact the sample, and this is known; hence the quality of inference of the 'true' sample from resampled data (resampled → sample) is measurable. \n",
        "\n",
        "**Testing Steps:**\n",
        "\n",
        "1-Creating 500 samples of dataset (bootstraping)\n",
        "\n",
        "2-Calculating 1-day retentions for A/B groups\n",
        "\n",
        "3-Plotting the bootstrap distributions\n",
        "\n",
        "4-Calculating the observed differnce and the p_value \n",
        "\n",
        "5-making decisions to reject or fail to reject the null hypthesis \n",
        "\n",
        "6-repeat the previous steps on 7-day retention for A/B groups \n",
        "\n",
        "7-Evaluating results and making recommendation"
      ],
      "metadata": {
        "id": "VZRATskNJ7Pz"
      }
    },
    {
      "cell_type": "code",
      "source": [
        "# Creating an list with bootstrapped props(NULL distribution) for group(retention_1)\n",
        "library(infer)\n",
        "bootstrap= cookie_cats %>%\n",
        "  specify(retention_1 ~ version,success = \"True\") %>%\n",
        "  hypothesize(null = \"independence\") %>%\n",
        "  generate(reps = 500, type = \"permute\") %>%\n",
        "  calculate(stat=\"diff in props\", order = c(\"gate_30\", \"gate_40\"))\n",
        "\n",
        "\n"
      ],
      "metadata": {
        "id": "5aazvtEzIy6g",
        "colab": {
          "base_uri": "https://localhost:8080/",
          "height": 1000
        },
        "outputId": "e76bf336-b552-4679-9ed5-96a2cfa1e409"
      },
      "execution_count": null,
      "outputs": [
        {
          "output_type": "display_data",
          "data": {
            "text/html": [
              "<table class=\"dataframe\">\n",
              "<caption>A infer: 500 × 2</caption>\n",
              "<thead>\n",
              "\t<tr><th scope=col>replicate</th><th scope=col>stat</th></tr>\n",
              "\t<tr><th scope=col>&lt;int&gt;</th><th scope=col>&lt;dbl&gt;</th></tr>\n",
              "</thead>\n",
              "<tbody>\n",
              "\t<tr><td> 1</td><td>-0.0032318987</td></tr>\n",
              "\t<tr><td> 2</td><td>-0.0014133559</td></tr>\n",
              "\t<tr><td> 3</td><td>-0.0030101252</td></tr>\n",
              "\t<tr><td> 4</td><td> 0.0005826056</td></tr>\n",
              "\t<tr><td> 5</td><td> 0.0040422723</td></tr>\n",
              "\t<tr><td> 6</td><td> 0.0024455031</td></tr>\n",
              "\t<tr><td> 7</td><td> 0.0114938621</td></tr>\n",
              "\t<tr><td> 8</td><td> 0.0012035715</td></tr>\n",
              "\t<tr><td> 9</td><td> 0.0008043791</td></tr>\n",
              "\t<tr><td>10</td><td> 0.0004938962</td></tr>\n",
              "\t<tr><td>11</td><td> 0.0047519476</td></tr>\n",
              "\t<tr><td>12</td><td>-0.0013246465</td></tr>\n",
              "\t<tr><td>13</td><td>-0.0003931978</td></tr>\n",
              "\t<tr><td>14</td><td> 0.0013366356</td></tr>\n",
              "\t<tr><td>15</td><td> 0.0032438877</td></tr>\n",
              "\t<tr><td>16</td><td> 0.0055059775</td></tr>\n",
              "\t<tr><td>17</td><td> 0.0066148450</td></tr>\n",
              "\t<tr><td>18</td><td>-0.0017681935</td></tr>\n",
              "\t<tr><td>19</td><td>-0.0015020653</td></tr>\n",
              "\t<tr><td>20</td><td> 0.0026229219</td></tr>\n",
              "\t<tr><td>21</td><td>-0.0012802918</td></tr>\n",
              "\t<tr><td>22</td><td>-0.0017681935</td></tr>\n",
              "\t<tr><td>23</td><td> 0.0017801826</td></tr>\n",
              "\t<tr><td>24</td><td> 0.0036874347</td></tr>\n",
              "\t<tr><td>25</td><td> 0.0028890501</td></tr>\n",
              "\t<tr><td>26</td><td> 0.0099414476</td></tr>\n",
              "\t<tr><td>27</td><td> 0.0045745287</td></tr>\n",
              "\t<tr><td>28</td><td>-0.0040746380</td></tr>\n",
              "\t<tr><td>29</td><td>-0.0030544799</td></tr>\n",
              "\t<tr><td>30</td><td> 0.0007600244</td></tr>\n",
              "\t<tr><td>⋮</td><td>⋮</td></tr>\n",
              "\t<tr><td>471</td><td> 2.179375e-03</td></tr>\n",
              "\t<tr><td>472</td><td>-5.449634e-03</td></tr>\n",
              "\t<tr><td>473</td><td> 1.336636e-03</td></tr>\n",
              "\t<tr><td>474</td><td>-3.231899e-03</td></tr>\n",
              "\t<tr><td>475</td><td> 4.219691e-03</td></tr>\n",
              "\t<tr><td>476</td><td>-1.280292e-03</td></tr>\n",
              "\t<tr><td>477</td><td>-4.819072e-04</td></tr>\n",
              "\t<tr><td>478</td><td>-1.945612e-03</td></tr>\n",
              "\t<tr><td>479</td><td>-1.457711e-03</td></tr>\n",
              "\t<tr><td>480</td><td>-2.832706e-03</td></tr>\n",
              "\t<tr><td>481</td><td> 1.203571e-03</td></tr>\n",
              "\t<tr><td>482</td><td> 4.219691e-03</td></tr>\n",
              "\t<tr><td>483</td><td> 7.156697e-04</td></tr>\n",
              "\t<tr><td>484</td><td>-5.627053e-03</td></tr>\n",
              "\t<tr><td>485</td><td>-2.877061e-03</td></tr>\n",
              "\t<tr><td>486</td><td>-8.271489e-05</td></tr>\n",
              "\t<tr><td>487</td><td> 2.312439e-03</td></tr>\n",
              "\t<tr><td>488</td><td>-4.917377e-03</td></tr>\n",
              "\t<tr><td>489</td><td> 1.602764e-03</td></tr>\n",
              "\t<tr><td>490</td><td> 1.292281e-03</td></tr>\n",
              "\t<tr><td>491</td><td>-1.270696e-04</td></tr>\n",
              "\t<tr><td>492</td><td>-2.433514e-03</td></tr>\n",
              "\t<tr><td>493</td><td>-7.036807e-04</td></tr>\n",
              "\t<tr><td>494</td><td> 3.066469e-03</td></tr>\n",
              "\t<tr><td>495</td><td> 1.834133e-04</td></tr>\n",
              "\t<tr><td>496</td><td> 3.643080e-03</td></tr>\n",
              "\t<tr><td>497</td><td> 1.203571e-03</td></tr>\n",
              "\t<tr><td>498</td><td>-2.655288e-03</td></tr>\n",
              "\t<tr><td>499</td><td> 6.126943e-03</td></tr>\n",
              "\t<tr><td>500</td><td>-2.566578e-03</td></tr>\n",
              "</tbody>\n",
              "</table>\n"
            ],
            "text/markdown": "\nA infer: 500 × 2\n\n| replicate &lt;int&gt; | stat &lt;dbl&gt; |\n|---|---|\n|  1 | -0.0032318987 |\n|  2 | -0.0014133559 |\n|  3 | -0.0030101252 |\n|  4 |  0.0005826056 |\n|  5 |  0.0040422723 |\n|  6 |  0.0024455031 |\n|  7 |  0.0114938621 |\n|  8 |  0.0012035715 |\n|  9 |  0.0008043791 |\n| 10 |  0.0004938962 |\n| 11 |  0.0047519476 |\n| 12 | -0.0013246465 |\n| 13 | -0.0003931978 |\n| 14 |  0.0013366356 |\n| 15 |  0.0032438877 |\n| 16 |  0.0055059775 |\n| 17 |  0.0066148450 |\n| 18 | -0.0017681935 |\n| 19 | -0.0015020653 |\n| 20 |  0.0026229219 |\n| 21 | -0.0012802918 |\n| 22 | -0.0017681935 |\n| 23 |  0.0017801826 |\n| 24 |  0.0036874347 |\n| 25 |  0.0028890501 |\n| 26 |  0.0099414476 |\n| 27 |  0.0045745287 |\n| 28 | -0.0040746380 |\n| 29 | -0.0030544799 |\n| 30 |  0.0007600244 |\n| ⋮ | ⋮ |\n| 471 |  2.179375e-03 |\n| 472 | -5.449634e-03 |\n| 473 |  1.336636e-03 |\n| 474 | -3.231899e-03 |\n| 475 |  4.219691e-03 |\n| 476 | -1.280292e-03 |\n| 477 | -4.819072e-04 |\n| 478 | -1.945612e-03 |\n| 479 | -1.457711e-03 |\n| 480 | -2.832706e-03 |\n| 481 |  1.203571e-03 |\n| 482 |  4.219691e-03 |\n| 483 |  7.156697e-04 |\n| 484 | -5.627053e-03 |\n| 485 | -2.877061e-03 |\n| 486 | -8.271489e-05 |\n| 487 |  2.312439e-03 |\n| 488 | -4.917377e-03 |\n| 489 |  1.602764e-03 |\n| 490 |  1.292281e-03 |\n| 491 | -1.270696e-04 |\n| 492 | -2.433514e-03 |\n| 493 | -7.036807e-04 |\n| 494 |  3.066469e-03 |\n| 495 |  1.834133e-04 |\n| 496 |  3.643080e-03 |\n| 497 |  1.203571e-03 |\n| 498 | -2.655288e-03 |\n| 499 |  6.126943e-03 |\n| 500 | -2.566578e-03 |\n\n",
            "text/latex": "A infer: 500 × 2\n\\begin{tabular}{ll}\n replicate & stat\\\\\n <int> & <dbl>\\\\\n\\hline\n\t  1 & -0.0032318987\\\\\n\t  2 & -0.0014133559\\\\\n\t  3 & -0.0030101252\\\\\n\t  4 &  0.0005826056\\\\\n\t  5 &  0.0040422723\\\\\n\t  6 &  0.0024455031\\\\\n\t  7 &  0.0114938621\\\\\n\t  8 &  0.0012035715\\\\\n\t  9 &  0.0008043791\\\\\n\t 10 &  0.0004938962\\\\\n\t 11 &  0.0047519476\\\\\n\t 12 & -0.0013246465\\\\\n\t 13 & -0.0003931978\\\\\n\t 14 &  0.0013366356\\\\\n\t 15 &  0.0032438877\\\\\n\t 16 &  0.0055059775\\\\\n\t 17 &  0.0066148450\\\\\n\t 18 & -0.0017681935\\\\\n\t 19 & -0.0015020653\\\\\n\t 20 &  0.0026229219\\\\\n\t 21 & -0.0012802918\\\\\n\t 22 & -0.0017681935\\\\\n\t 23 &  0.0017801826\\\\\n\t 24 &  0.0036874347\\\\\n\t 25 &  0.0028890501\\\\\n\t 26 &  0.0099414476\\\\\n\t 27 &  0.0045745287\\\\\n\t 28 & -0.0040746380\\\\\n\t 29 & -0.0030544799\\\\\n\t 30 &  0.0007600244\\\\\n\t ⋮ & ⋮\\\\\n\t 471 &  2.179375e-03\\\\\n\t 472 & -5.449634e-03\\\\\n\t 473 &  1.336636e-03\\\\\n\t 474 & -3.231899e-03\\\\\n\t 475 &  4.219691e-03\\\\\n\t 476 & -1.280292e-03\\\\\n\t 477 & -4.819072e-04\\\\\n\t 478 & -1.945612e-03\\\\\n\t 479 & -1.457711e-03\\\\\n\t 480 & -2.832706e-03\\\\\n\t 481 &  1.203571e-03\\\\\n\t 482 &  4.219691e-03\\\\\n\t 483 &  7.156697e-04\\\\\n\t 484 & -5.627053e-03\\\\\n\t 485 & -2.877061e-03\\\\\n\t 486 & -8.271489e-05\\\\\n\t 487 &  2.312439e-03\\\\\n\t 488 & -4.917377e-03\\\\\n\t 489 &  1.602764e-03\\\\\n\t 490 &  1.292281e-03\\\\\n\t 491 & -1.270696e-04\\\\\n\t 492 & -2.433514e-03\\\\\n\t 493 & -7.036807e-04\\\\\n\t 494 &  3.066469e-03\\\\\n\t 495 &  1.834133e-04\\\\\n\t 496 &  3.643080e-03\\\\\n\t 497 &  1.203571e-03\\\\\n\t 498 & -2.655288e-03\\\\\n\t 499 &  6.126943e-03\\\\\n\t 500 & -2.566578e-03\\\\\n\\end{tabular}\n",
            "text/plain": [
              "    replicate stat         \n",
              "1    1        -0.0032318987\n",
              "2    2        -0.0014133559\n",
              "3    3        -0.0030101252\n",
              "4    4         0.0005826056\n",
              "5    5         0.0040422723\n",
              "6    6         0.0024455031\n",
              "7    7         0.0114938621\n",
              "8    8         0.0012035715\n",
              "9    9         0.0008043791\n",
              "10  10         0.0004938962\n",
              "11  11         0.0047519476\n",
              "12  12        -0.0013246465\n",
              "13  13        -0.0003931978\n",
              "14  14         0.0013366356\n",
              "15  15         0.0032438877\n",
              "16  16         0.0055059775\n",
              "17  17         0.0066148450\n",
              "18  18        -0.0017681935\n",
              "19  19        -0.0015020653\n",
              "20  20         0.0026229219\n",
              "21  21        -0.0012802918\n",
              "22  22        -0.0017681935\n",
              "23  23         0.0017801826\n",
              "24  24         0.0036874347\n",
              "25  25         0.0028890501\n",
              "26  26         0.0099414476\n",
              "27  27         0.0045745287\n",
              "28  28        -0.0040746380\n",
              "29  29        -0.0030544799\n",
              "30  30         0.0007600244\n",
              "⋮   ⋮         ⋮            \n",
              "471 471        2.179375e-03\n",
              "472 472       -5.449634e-03\n",
              "473 473        1.336636e-03\n",
              "474 474       -3.231899e-03\n",
              "475 475        4.219691e-03\n",
              "476 476       -1.280292e-03\n",
              "477 477       -4.819072e-04\n",
              "478 478       -1.945612e-03\n",
              "479 479       -1.457711e-03\n",
              "480 480       -2.832706e-03\n",
              "481 481        1.203571e-03\n",
              "482 482        4.219691e-03\n",
              "483 483        7.156697e-04\n",
              "484 484       -5.627053e-03\n",
              "485 485       -2.877061e-03\n",
              "486 486       -8.271489e-05\n",
              "487 487        2.312439e-03\n",
              "488 488       -4.917377e-03\n",
              "489 489        1.602764e-03\n",
              "490 490        1.292281e-03\n",
              "491 491       -1.270696e-04\n",
              "492 492       -2.433514e-03\n",
              "493 493       -7.036807e-04\n",
              "494 494        3.066469e-03\n",
              "495 495        1.834133e-04\n",
              "496 496        3.643080e-03\n",
              "497 497        1.203571e-03\n",
              "498 498       -2.655288e-03\n",
              "499 499        6.126943e-03\n",
              "500 500       -2.566578e-03"
            ]
          },
          "metadata": {}
        }
      ]
    },
    {
      "cell_type": "code",
      "source": [
        "#calculate the observed statistics (actual statistics)\n",
        "library(dplyr)\n",
        "obs_diff<-cookie_cats%>%\n",
        "group_by(version) %>%\n",
        "summarize(prop_p=mean(retention_1==\"True\"))%>%\n",
        "summarize(diff(prop_p))\n",
        "\n",
        "obs_diff"
      ],
      "metadata": {
        "colab": {
          "base_uri": "https://localhost:8080/",
          "height": 129
        },
        "id": "B5a0vZUY-8sg",
        "outputId": "bb6c3079-979b-40d3-c5ed-dad6f3237a65"
      },
      "execution_count": null,
      "outputs": [
        {
          "output_type": "display_data",
          "data": {
            "text/html": [
              "<table class=\"dataframe\">\n",
              "<caption>A tibble: 1 × 1</caption>\n",
              "<thead>\n",
              "\t<tr><th scope=col>diff(prop_p)</th></tr>\n",
              "\t<tr><th scope=col>&lt;dbl&gt;</th></tr>\n",
              "</thead>\n",
              "<tbody>\n",
              "\t<tr><td>-0.00590517</td></tr>\n",
              "</tbody>\n",
              "</table>\n"
            ],
            "text/markdown": "\nA tibble: 1 × 1\n\n| diff(prop_p) &lt;dbl&gt; |\n|---|\n| -0.00590517 |\n\n",
            "text/latex": "A tibble: 1 × 1\n\\begin{tabular}{l}\n diff(prop\\_p)\\\\\n <dbl>\\\\\n\\hline\n\t -0.00590517\\\\\n\\end{tabular}\n",
            "text/plain": [
              "  diff(prop_p)\n",
              "1 -0.00590517 "
            ]
          },
          "metadata": {}
        }
      ]
    },
    {
      "cell_type": "code",
      "source": [
        "#plot the null distrbiution (the list with bootstrapped props)\n",
        "#then plot a line to represent the observed differnce \n",
        "ggplot(bootstrap,aes(x=stat))+geom_histogram()+\n",
        "geom_vline(aes(xintercept=-0.00590516978734146),color=\"red\")"
      ],
      "metadata": {
        "id": "IxxMkNG3-2MP",
        "colab": {
          "base_uri": "https://localhost:8080/",
          "height": 472
        },
        "outputId": "335374e1-c2a5-45c6-93d8-e8c243bd78bd"
      },
      "execution_count": null,
      "outputs": [
        {
          "output_type": "stream",
          "name": "stderr",
          "text": [
            "`stat_bin()` using `bins = 30`. Pick better value with `binwidth`.\n",
            "\n"
          ]
        },
        {
          "output_type": "display_data",
          "data": {
            "text/plain": [
              "plot without title"
            ],
            "image/png": "[encoded data removed]"
          },
          "metadata": {
            "image/png": {
              "width": 420,
              "height": 420
            }
          }
        }
      ]
    },
    {
      "cell_type": "code",
      "source": [
        "bootstrap %>% visualize()+shade_p_value(obs_stat = obs_diff, direction = \"right\")"
      ],
      "metadata": {
        "id": "mib2YPyFE800",
        "colab": {
          "base_uri": "https://localhost:8080/",
          "height": 437
        },
        "outputId": "0bdccffd-9205-4ac6-c143-43d9eea17d11"
      },
      "execution_count": null,
      "outputs": [
        {
          "output_type": "display_data",
          "data": {
            "text/plain": [
              "plot without title"
            ],
            "image/png": "[encoded data removed]"
          },
          "metadata": {
            "image/png": {
              "width": 420,
              "height": 420
            }
          }
        }
      ]
    },
    {
      "cell_type": "markdown",
      "source": [
        "From these chart, we can see that the most likely % difference is around 1% - 2% for 1-day retention."
      ],
      "metadata": {
        "id": "bWoxja3nLD0F"
      }
    },
    {
      "cell_type": "code",
      "source": [
        "#calculate the p_value\n",
        "p_value <- bootstrap %>%\n",
        "  get_p_value(obs_stat = obs_diff, direction = \"right\")\n",
        "p_value"
      ],
      "metadata": {
        "colab": {
          "base_uri": "https://localhost:8080/",
          "height": 147
        },
        "id": "S1LrRbWUD5uV",
        "outputId": "85b42b07-8e6e-4b24-c27d-b5871ac4c10e"
      },
      "execution_count": null,
      "outputs": [
        {
          "output_type": "display_data",
          "data": {
            "text/html": [
              "<table class=\"dataframe\">\n",
              "<caption>A tibble: 1 × 1</caption>\n",
              "<thead>\n",
              "\t<tr><th scope=col>p_value</th></tr>\n",
              "\t<tr><th scope=col>&lt;dbl&gt;</th></tr>\n",
              "</thead>\n",
              "<tbody>\n",
              "\t<tr><td>0.97</td></tr>\n",
              "</tbody>\n",
              "</table>\n"
            ],
            "text/markdown": "\nA tibble: 1 × 1\n\n| p_value &lt;dbl&gt; |\n|---|\n| 0.97 |\n\n",
            "text/latex": "A tibble: 1 × 1\n\\begin{tabular}{l}\n p\\_value\\\\\n <dbl>\\\\\n\\hline\n\t 0.97\\\\\n\\end{tabular}\n",
            "text/plain": [
              "  p_value\n",
              "1 0.97   "
            ]
          },
          "metadata": {}
        }
      ]
    },
    {
      "cell_type": "markdown",
      "source": [
        "The p_value for retention_1 is 1 and that means that we showldn't move from the null hypothesis (we fail to reject the null hypothesis ) ,that means the gate should be replaced at level 30 not 40 "
      ],
      "metadata": {
        "id": "OkrDNk3mJZnR"
      }
    },
    {
      "cell_type": "markdown",
      "source": [
        "The bootstrap analysis tells us that there is a high probability that 1-day retention is better when the gate is at level 30. However, since players have only been playing the game for one day, it is likely that most players haven't reached level 30 yet. That is, many players won't have been affected by the gate, even if it's as early as level 30.\n",
        "\n",
        "But after having played for a week, more players should have reached level 40, and therefore it makes sense to also look at 7-day retention. That is: What percentage of the people that installed the game also showed up a week later to play the game again.\n",
        "\n",
        "**Let's start by calculating 7-day retention for the two AB-groups.**"
      ],
      "metadata": {
        "id": "H0P_IDg-LZpS"
      }
    },
    {
      "cell_type": "code",
      "source": [
        "# Creating an list with bootstrapped props(NULL distribution) for group(retention_1)\n",
        "\n",
        "bootstrap_7<-cookie_cats %>%\n",
        "  specify(retention_7 ~ version,success = \"True\") %>%\n",
        "  hypothesize(null = \"independence\") %>%\n",
        "  generate(reps = 500, type = \"permute\") %>%\n",
        "  calculate(\"diff in props\", order = c(\"gate_30\", \"gate_40\"))"
      ],
      "metadata": {
        "id": "zUZr1vlALf87"
      },
      "execution_count": null,
      "outputs": []
    },
    {
      "cell_type": "code",
      "source": [
        "#calculate the observed statistics (actual statistics)\n",
        "obs_diff7<-cookie_cats%>%\n",
        "group_by(version) %>%\n",
        "summarize(prop_p7=mean(retention_7==\"True\"))%>%\n",
        "summarize(obs=diff(prop_p7))\n",
        "as.numeric(obs_diff7)\n"
      ],
      "metadata": {
        "id": "lwaaSI3wLgK9",
        "colab": {
          "base_uri": "https://localhost:8080/",
          "height": 34
        },
        "outputId": "65e26751-f207-4af2-de75-6f48b8d50eac"
      },
      "execution_count": null,
      "outputs": [
        {
          "output_type": "display_data",
          "data": {
            "text/html": [
              "-0.00820129831520591"
            ],
            "text/markdown": "-0.00820129831520591",
            "text/latex": "-0.00820129831520591",
            "text/plain": [
              "[1] -0.008201298"
            ]
          },
          "metadata": {}
        }
      ]
    },
    {
      "cell_type": "code",
      "source": [
        "#plot the null distrbiution (the list with bootstrapped props)\n",
        "#then plot a line to represent the observed differnce \n",
        "bootstrap_7 %>% visualize()+shade_p_value(obs_stat = obs_diff7, direction = \"right\")"
      ],
      "metadata": {
        "id": "eCDKImPkL-G-",
        "colab": {
          "base_uri": "https://localhost:8080/",
          "height": 437
        },
        "outputId": "f28ebf3a-9ec8-46e2-cb5f-3e92378c445e"
      },
      "execution_count": null,
      "outputs": [
        {
          "output_type": "display_data",
          "data": {
            "text/plain": [
              "plot without title"
            ],
            "image/png": "[encoded data removed]"
          },
          "metadata": {
            "image/png": {
              "width": 420,
              "height": 420
            }
          }
        }
      ]
    },
    {
      "cell_type": "code",
      "source": [
        "#calculating the p_value for retention_7\n",
        "p_value7 <- bootstrap_7 %>%\n",
        "  get_p_value(obs_stat = obs_diff7, direction = \"right\")\n",
        "p_value7"
      ],
      "metadata": {
        "id": "PRDQrrwrMGop",
        "colab": {
          "base_uri": "https://localhost:8080/",
          "height": 147
        },
        "outputId": "86a2fd32-4c9b-41ce-a08e-203c34dba075"
      },
      "execution_count": null,
      "outputs": [
        {
          "output_type": "display_data",
          "data": {
            "text/html": [
              "<table class=\"dataframe\">\n",
              "<caption>A tibble: 1 × 1</caption>\n",
              "<thead>\n",
              "\t<tr><th scope=col>p_value</th></tr>\n",
              "\t<tr><th scope=col>&lt;dbl&gt;</th></tr>\n",
              "</thead>\n",
              "<tbody>\n",
              "\t<tr><td>0.998</td></tr>\n",
              "</tbody>\n",
              "</table>\n"
            ],
            "text/markdown": "\nA tibble: 1 × 1\n\n| p_value &lt;dbl&gt; |\n|---|\n| 0.998 |\n\n",
            "text/latex": "A tibble: 1 × 1\n\\begin{tabular}{l}\n p\\_value\\\\\n <dbl>\\\\\n\\hline\n\t 0.998\\\\\n\\end{tabular}\n",
            "text/plain": [
              "  p_value\n",
              "1 0.998  "
            ]
          },
          "metadata": {}
        }
      ]
    },
    {
      "cell_type": "markdown",
      "source": [
        "\n",
        "The bootstrap result tells us that there is strong evidence 99.8% probability that 7-day retention is higher when the gate is at level 30 than when it is at level 40.\n",
        "\n",
        "The probability that 1-day retention is greater when the gate is at level 30: 97.0%       \n",
        "The probability that 7-days retention is greater when the gate is at level 30: 100.0% "
      ],
      "metadata": {
        "id": "nI1odlWRLivX"
      }
    },
    {
      "cell_type": "markdown",
      "source": [
        "# 5. The conclusion\n",
        "\n",
        "If we want to keep retention high — both 1-day and 7-day retention — we should not move the gate from level 30 to level 40. There are, of course, other metrics we could look at, like the number of game rounds played or how much in-game purchases are made by the two AB-groups. But retention is one of the most important metrics.\n",
        "\n"
      ],
      "metadata": {
        "id": "p4DycvfuLkH7"
      }
    }
  ]
}